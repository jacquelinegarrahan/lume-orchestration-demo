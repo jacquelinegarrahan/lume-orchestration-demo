{
 "cells": [
  {
   "cell_type": "markdown",
   "metadata": {},
   "source": [
    "# LCLS cu_inj nn \n",
    "\n",
    "This example assumes the steps in the README have been completed, the model has been saved, and a deployment has been stored in the database. We will first load the model locally using the LocalModelingService and subsequently run with prefect using the RemoteModelingService.\n",
    "\n",
    "The model accepts and outputs the following variables:\n",
    "\n",
    "| Input variables               | Output variables               |\n",
    "|-------------------------------|--------------------------------|\n",
    "| distgen:r_dist:sigma_xy:value | end_n_particle                 |\n",
    "| distgen:t_dist:length:value   | end_mean_gamma                 |\n",
    "| distgen:total_charge:value    | end_sigma_gamma                |\n",
    "| SOL1:solenoid_field_scale     | end_mean_x                     |\n",
    "| CQ01:b1_gradient              | end_mean_y                     |\n",
    "| SQ01:b1_gradient              | end_norm_emit_x                |\n",
    "| L0A_phase:dtheta0_deg         | end_norm_emit_y                |\n",
    "| L0A_scale:voltage             | end_norm_emit_z                |\n",
    "| end_mean_z                    | end_sigma_x                    |\n",
    "|                               | end_sigma_y                    |\n",
    "|                               | end_sigma_z                    |\n",
    "|                               | end_mean_px                    |\n",
    "|                               | end_mean_py                    |\n",
    "|                               | end_mean_pz                    |\n",
    "|                               | end_sigma_px                   |\n",
    "|                               | end_sigma_py                   |\n",
    "|                               | end_sigma_pz                   |\n",
    "|                               | end_higher_order_energy_spread |\n",
    "|                               | end_cov_x__px                  |\n",
    "|                               | end_cov_y__py                  |\n",
    "|                               | end_cov_z__pz                  |\n",
    "|                               | x:y                            |\n",
    "|                               | out_ymax                       |\n",
    "|                               | out_xmax                       |\n",
    "|                               | out_ymin                       |\n",
    "|                               | out_xmin                       |\n"
   ]
  },
  {
   "cell_type": "markdown",
   "metadata": {},
   "source": [
    "## First, let's load the local modeling service from the service container"
   ]
  },
  {
   "cell_type": "code",
   "execution_count": 1,
   "metadata": {},
   "outputs": [],
   "source": [
    "from slac_services import service_container\n",
    "local_modeling_service = service_container.local_modeling_service()"
   ]
  },
  {
   "cell_type": "markdown",
   "metadata": {},
   "source": [
    "## Use the model_id to retrieve latest model version\n",
    "In a previous step, this was stored as an environment variable with the name $LCLS_CU_INJ_NN_MODEL_ID"
   ]
  },
  {
   "cell_type": "code",
   "execution_count": 2,
   "metadata": {},
   "outputs": [
    {
     "name": "stderr",
     "output_type": "stream",
     "text": [
      "2022-03-21 15:12:06.901341: I tensorflow/core/platform/cpu_feature_guard.cc:151] This TensorFlow binary is optimized with oneAPI Deep Neural Network Library (oneDNN) to use the following CPU instructions in performance-critical operations:  SSE4.1 SSE4.2 AVX AVX2 FMA\n",
      "To enable them in other operations, rebuild TensorFlow with the appropriate compiler flags.\n"
     ]
    },
    {
     "data": {
      "text/plain": [
       "<lcls_cu_inj_nn_ex.model.LCLSCuInjNN at 0x1ab8f0e50>"
      ]
     },
     "execution_count": 2,
     "metadata": {},
     "output_type": "execute_result"
    }
   ],
   "source": [
    "import os\n",
    "\n",
    "model_id = os.environ[\"LCLS_CU_INJ_NN_MODEL_ID\"]\n",
    "model = local_modeling_service.get_latest_model(model_id)\n",
    "model"
   ]
  },
  {
   "cell_type": "markdown",
   "metadata": {},
   "source": [
    "## Run model with dummy values"
   ]
  },
  {
   "cell_type": "code",
   "execution_count": 3,
   "metadata": {},
   "outputs": [
    {
     "data": {
      "text/plain": [
       "[ScalarOutputVariable(variable_type='scalar', units='1', parent_variable=None, value_range=None, name='end_n_particle', value=10059.875, precision=None, default=None),\n",
       " ScalarOutputVariable(variable_type='scalar', units='1', parent_variable=None, value_range=None, name='end_mean_gamma', value=131.49306, precision=None, default=None),\n",
       " ScalarOutputVariable(variable_type='scalar', units='1', parent_variable=None, value_range=None, name='end_sigma_gamma', value=2.5961263, precision=None, default=None),\n",
       " ScalarOutputVariable(variable_type='scalar', units='m', parent_variable=None, value_range=None, name='end_mean_x', value=1.3658382e-07, precision=None, default=None),\n",
       " ScalarOutputVariable(variable_type='scalar', units='m', parent_variable=None, value_range=None, name='end_mean_y', value=9.111318e-09, precision=None, default=None),\n",
       " ScalarOutputVariable(variable_type='scalar', units='m', parent_variable=None, value_range=None, name='end_norm_emit_x', value=4.6450496e-06, precision=None, default=None),\n",
       " ScalarOutputVariable(variable_type='scalar', units='m', parent_variable=None, value_range=None, name='end_norm_emit_y', value=5.2758965e-06, precision=None, default=None),\n",
       " ScalarOutputVariable(variable_type='scalar', units='m', parent_variable=None, value_range=None, name='end_norm_emit_z', value=6.928397e-05, precision=None, default=None),\n",
       " ScalarOutputVariable(variable_type='scalar', units='m', parent_variable=None, value_range=None, name='end_sigma_x', value=0.00050315174, precision=None, default=None),\n",
       " ScalarOutputVariable(variable_type='scalar', units='m', parent_variable=None, value_range=None, name='end_sigma_y', value=0.0003138389, precision=None, default=None),\n",
       " ScalarOutputVariable(variable_type='scalar', units='m', parent_variable=None, value_range=None, name='end_sigma_z', value=0.00066105276, precision=None, default=None),\n",
       " ScalarOutputVariable(variable_type='scalar', units='eV/c', parent_variable=None, value_range=None, name='end_mean_px', value=-4.6798096, precision=None, default=None),\n",
       " ScalarOutputVariable(variable_type='scalar', units='eV/c', parent_variable=None, value_range=None, name='end_mean_py', value=-3.0817719, precision=None, default=None),\n",
       " ScalarOutputVariable(variable_type='scalar', units='eV/c', parent_variable=None, value_range=None, name='end_mean_pz', value=67190640.0, precision=None, default=None),\n",
       " ScalarOutputVariable(variable_type='scalar', units='eV/c', parent_variable=None, value_range=None, name='end_sigma_px', value=26257.863, precision=None, default=None),\n",
       " ScalarOutputVariable(variable_type='scalar', units='eV/c', parent_variable=None, value_range=None, name='end_sigma_py', value=25832.3, precision=None, default=None),\n",
       " ScalarOutputVariable(variable_type='scalar', units='eV/c', parent_variable=None, value_range=None, name='end_sigma_pz', value=1326724.4, precision=None, default=None),\n",
       " ScalarOutputVariable(variable_type='scalar', units='eV', parent_variable=None, value_range=None, name='end_higher_order_energy_spread', value=3158.3174, precision=None, default=None),\n",
       " ScalarOutputVariable(variable_type='scalar', units='m-eV/c', parent_variable=None, value_range=None, name='end_cov_x__px', value=-1.9864388, precision=None, default=None),\n",
       " ScalarOutputVariable(variable_type='scalar', units='m-eV/c', parent_variable=None, value_range=None, name='end_cov_y__py', value=-1004.99677, precision=None, default=None),\n",
       " ScalarOutputVariable(variable_type='scalar', units='m-eV/c', parent_variable=None, value_range=None, name='end_cov_z__pz', value=-5.718567, precision=None, default=None),\n",
       " ImageOutputVariable(variable_type='image', axis_labels=['x', 'y'], axis_units=None, x_min_variable='out_xmin', x_max_variable='out_xmax', y_min_variable='out_ymin', y_max_variable='out_ymax', name='x:y', value=array([[-3.16554318e-16,  1.05099378e-16, -5.72812553e-15, ...,\n",
       "         -1.86750290e-16, -4.28353244e-16, -2.96999948e-15],\n",
       "        [-4.43008528e-16, -9.12815326e-16, -2.53369069e-15, ...,\n",
       "         -5.38896019e-16, -4.16000920e-15, -5.20053507e-16],\n",
       "        [-3.86480974e-15, -3.05081299e-15, -4.46358326e-15, ...,\n",
       "          2.09361303e-15, -8.65122776e-15,  1.10249671e-15],\n",
       "        ...,\n",
       "        [-8.50509425e-15, -7.38584863e-15, -1.36729685e-14, ...,\n",
       "         -8.25930392e-15, -4.43343524e-15, -4.18638877e-15],\n",
       "        [-3.09854744e-17, -5.07449942e-15, -4.28855703e-15, ...,\n",
       "         -3.42766345e-15, -7.50518456e-15, -4.30698085e-15],\n",
       "        [ 2.78199311e-15, -6.69537458e-16, -2.19494400e-15, ...,\n",
       "         -4.73700889e-15,  3.91505643e-16, -1.92779892e-15]], dtype=float32), precision=None, default=None, value_range=None, x_min=-0.006701567210257053, x_max=0.006628560367971659, y_min=-0.007451079785823822, y_max=0.007293964270502329),\n",
       " ScalarOutputVariable(variable_type='scalar', units=None, parent_variable='x:y', value_range=None, name='out_ymax', value=0.007293964270502329, precision=None, default=None),\n",
       " ScalarOutputVariable(variable_type='scalar', units=None, parent_variable='x:y', value_range=None, name='out_xmax', value=0.006628560367971659, precision=None, default=None),\n",
       " ScalarOutputVariable(variable_type='scalar', units=None, parent_variable='x:y', value_range=None, name='out_ymin', value=-0.007451079785823822, precision=None, default=None),\n",
       " ScalarOutputVariable(variable_type='scalar', units=None, parent_variable='x:y', value_range=None, name='out_xmin', value=-0.006701567210257053, precision=None, default=None)]"
      ]
     },
     "execution_count": 3,
     "metadata": {},
     "output_type": "execute_result"
    }
   ],
   "source": [
    "import copy\n",
    "vars = copy.deepcopy(model.input_variables)\n",
    "for var_name, var in vars.items():\n",
    "    var.value = var.default // 2 \n",
    "\n",
    "output = local_modeling_service.predict(model_id=model_id, input_variables=list(vars.values()))\n",
    "output"
   ]
  },
  {
   "cell_type": "markdown",
   "metadata": {},
   "source": [
    "## We can also predict directly with model service:"
   ]
  },
  {
   "cell_type": "code",
   "execution_count": null,
   "metadata": {},
   "outputs": [],
   "source": [
    "local_modeling_service.predict(model_id = model_id, input_variables = list(vars.values()))"
   ]
  },
  {
   "cell_type": "markdown",
   "metadata": {},
   "source": [
    "#  Execute flow\n",
    "\n",
    "So far, we've used the model object directly, however the distribution is packaged with a flow that provides the ability to format EPICS pvs before running the execution.\n",
    "format_epics:\n",
    "\n",
    "format_epics_input -> model_predict\n",
    "\n",
    "This accepts three dictionary Prefect flow parameters:\n",
    "- pv_values\n",
    "- pvname_to_input_map\n",
    "- settings\n",
    "\n",
    "PV values are mapped to input variables using the map. Alternatively, the values for input variables may be set directly using settings."
   ]
  },
  {
   "cell_type": "code",
   "execution_count": 4,
   "metadata": {},
   "outputs": [
    {
     "name": "stdout",
     "output_type": "stream",
     "text": [
      "[2022-03-21 15:14:35-0700] INFO - prefect.FlowRunner | Beginning Flow run for 'lcls-cu-inj-nn-ex'\n",
      "[2022-03-21 15:14:35-0700] INFO - prefect.TaskRunner | Task 'pv_values': Starting task run...\n",
      "[2022-03-21 15:14:36-0700] INFO - prefect.TaskRunner | Task 'pv_values': Finished task run for task with final state: 'Success'\n",
      "[2022-03-21 15:14:36-0700] INFO - prefect.TaskRunner | Task 'pvname_to_input_map': Starting task run...\n",
      "[2022-03-21 15:14:36-0700] INFO - prefect.TaskRunner | Task 'pvname_to_input_map': Finished task run for task with final state: 'Success'\n",
      "[2022-03-21 15:14:36-0700] INFO - prefect.TaskRunner | Task 'settings': Starting task run...\n",
      "[2022-03-21 15:14:36-0700] INFO - prefect.TaskRunner | Task 'settings': Finished task run for task with final state: 'Success'\n",
      "[2022-03-21 15:14:36-0700] INFO - prefect.TaskRunner | Task 'format_epics_input': Starting task run...\n",
      "[2022-03-21 15:14:36-0700] INFO - prefect.TaskRunner | Task 'format_epics_input': Finished task run for task with final state: 'Success'\n",
      "[2022-03-21 15:14:36-0700] INFO - prefect.TaskRunner | Task 'model_predict': Starting task run...\n",
      "[2022-03-21 15:14:36-0700] INFO - prefect.TaskRunner | Task 'model_predict': Finished task run for task with final state: 'Success'\n",
      "[2022-03-21 15:14:36-0700] INFO - prefect.FlowRunner | Flow run SUCCESS: all reference tasks succeeded\n"
     ]
    },
    {
     "data": {
      "text/plain": [
       "<Success: \"All reference tasks succeeded.\">"
      ]
     },
     "execution_count": 4,
     "metadata": {},
     "output_type": "execute_result"
    }
   ],
   "source": [
    "pvname_to_input_map = {\n",
    "    \"IRIS:LR20:130:CONFG_SEL\": \"distgen:r_dist:sigma_xy:value\",\n",
    "    \"BPMS:IN20:221:TMIT\": \"distgen:total_charge:value\",\n",
    "    \"SOLN:IN20:121:BACT\": \"SOL1:solenoid_field_scale\",\n",
    "    \"QUAD:IN20:121:BACT\": \"CQ01:b1_gradient\",\n",
    "    \"QUAD:IN20:122:BACT\": \"SQ01:b1_gradient\",\n",
    "    \"ACCL:IN20:300:L0A_PDES\": \"L0A_phase:dtheta0_deg\",\n",
    "    \"ACCL:IN20:400:L0B_PDES\": \"L0A_scale:voltage\"\n",
    "\n",
    "}\n",
    "\n",
    "pv_values = {\n",
    "    \"IRIS:LR20:130:CONFG_SEL\" :  0.4130,\n",
    "    \"BPMS:IN20:221:TMIT\": 250.0,\n",
    "    \"SOLN:IN20:121:BACT\" : 0.2460,\n",
    "    \"QUAD:IN20:121:BACT\": -0.0074,\n",
    "    \"QUAD:IN20:122:BACT\": -0.0074,\n",
    "    \"ACCL:IN20:300:L0A_PDES\":  -8.8997,\n",
    "    \"ACCL:IN20:400:L0B_PDES\": 70000000.0\n",
    "}\n",
    "\n",
    "settings = {\n",
    "    \"distgen:t_dist:length:value\" : 7.499772441611215,\n",
    "    \"end_mean_z\": 4.6147002\n",
    "}\n",
    "\n",
    "data = {\n",
    "    \"pvname_to_input_map\": pvname_to_input_map,\n",
    "    \"pv_values\": pv_values,\n",
    "    \"settings\": settings\n",
    "}\n",
    "\n",
    "local_modeling_service.predict_flow(model_id = model_id, data=data)"
   ]
  },
  {
   "cell_type": "markdown",
   "metadata": {},
   "source": [
    "# Now, lets use the remote modeling service.\n",
    "This specific model accepts three different parameters for running a remote flow, each optional but all input variables must be covered by the union of the three:\n",
    "\n",
    "1. pv_values: dict of process variable name to values for use in composing input variables\n",
    "2. pvname_to_input_map: 1-to-1 map of pv name to input name\n",
    "3. settings: map of input variable name to value"
   ]
  },
  {
   "cell_type": "code",
   "execution_count": 5,
   "metadata": {},
   "outputs": [
    {
     "name": "stdout",
     "output_type": "stream",
     "text": [
      "Run scheduled for model 2 with flow_run_id = 7663cf31-cc0d-4ed1-9ee9-2ebc53e000a0\n"
     ]
    }
   ],
   "source": [
    "remote_modeling_service = service_container.remote_modeling_service()\n",
    "remote_modeling_service.predict(model_id=model_id, data=data)"
   ]
  },
  {
   "cell_type": "markdown",
   "metadata": {},
   "source": [
    "# Open Prefect UI\n",
    "You can now check the status of your run at:\n",
    "http://localhost:8080"
   ]
  },
  {
   "cell_type": "code",
   "execution_count": null,
   "metadata": {},
   "outputs": [],
   "source": []
  }
 ],
 "metadata": {
  "kernelspec": {
   "display_name": "Python 3 (ipykernel)",
   "language": "python",
   "name": "python3"
  },
  "language_info": {
   "codemirror_mode": {
    "name": "ipython",
    "version": 3
   },
   "file_extension": ".py",
   "mimetype": "text/x-python",
   "name": "python",
   "nbconvert_exporter": "python",
   "pygments_lexer": "ipython3",
   "version": "3.9.10"
  }
 },
 "nbformat": 4,
 "nbformat_minor": 2
}
