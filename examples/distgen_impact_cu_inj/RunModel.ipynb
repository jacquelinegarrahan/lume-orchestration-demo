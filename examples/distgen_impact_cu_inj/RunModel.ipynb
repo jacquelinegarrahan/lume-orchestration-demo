{
 "cells": [
  {
   "cell_type": "markdown",
   "id": "79dc1dfb",
   "metadata": {},
   "source": [
    "# Distgen -> Impact model of the copper injector\n",
    "\n",
    "\n",
    "This example assumes the steps in the README have been completed, the model has been saved, and a deployment has been stored in the database. We will first load the model locally using the LocalModelingService and subsequently run with prefect using the RemoteModelingService."
   ]
  },
  {
   "cell_type": "code",
   "execution_count": 1,
   "id": "86f54d43",
   "metadata": {},
   "outputs": [],
   "source": [
    "import os\n",
    "from slac_services.services.scheduling import MountPoint\n",
    "from slac_services.utils import isotime\n",
    "from slac_services import service_container\n",
    "import numpy as np\n",
    "import os\n",
    "dir_path = os.path.abspath('')"
   ]
  },
  {
   "cell_type": "markdown",
   "id": "b6611cb1",
   "metadata": {},
   "source": [
    "# set up distgen inputs"
   ]
  },
  {
   "cell_type": "code",
   "execution_count": 2,
   "id": "ffe1af2e",
   "metadata": {},
   "outputs": [],
   "source": [
    "distgen_input_filename = f\"{dir_path}/files/distgen.yaml\"\n",
    "\n",
    "# we need to create mount points for each file or directory so the pod may access our filesystem resources\n",
    "distgen_input_mount = MountPoint(\n",
    "    name=\"distgen-input-mount\", host_path=distgen_input_filename, mount_type=\"File\"\n",
    ")\n",
    "\n",
    "# format inputs\n",
    "vcc_array = np.load(f\"{dir_path}/files/default_vcc_array.npy\")\n",
    "\n",
    "distgen_pv_values = {\n",
    "    \"CAMR:IN20:186:RESOLUTION\" : 9,\n",
    "    \"CAMR:IN20:186:RESOLUTION.EGU\" : \"um\",\n",
    "    \"CAMR:IN20:186:N_OF_ROW\" : 480,\n",
    "    \"CAMR:IN20:186:N_OF_COL\": 640,\n",
    "    \"CAMR:IN20:186:IMAGE\": vcc_array.tolist(), # neet to convert to json serializable input for passed data\n",
    "    \"BPMS:IN20:221:TMIT\": 1.51614e+09\n",
    "}\n",
    "\n",
    "distgen_configuration = {}\n",
    "distgen_settings = {\n",
    "    'n_particle': 10000,\n",
    "    \"t_dist:length:value\":  4 * 1.65   #  Inferred pulse stacker FWHM: 4 ps, converted to tukey length\n",
    "}\n",
    "\n",
    "distgen_pvname_to_input_map = {\n",
    "    \"CAMR:IN20:186:RESOLUTION\" : \"vcc_resolution\",\n",
    "    \"CAMR:IN20:186:RESOLUTION.EGU\" : \"vcc_resolution_units\",\n",
    "    \"CAMR:IN20:186:N_OF_ROW\" : \"vcc_size_y\",\n",
    "    \"CAMR:IN20:186:N_OF_COL\": \"vcc_size_x\",\n",
    "    \"CAMR:IN20:186:IMAGE\": \"vcc_array\",\n",
    "    \"BPMS:IN20:221:TMIT\":\"total_charge\"\n",
    "}"
   ]
  },
  {
   "cell_type": "markdown",
   "id": "e7b1afa7",
   "metadata": {},
   "source": [
    "# Set up impact inputs"
   ]
  },
  {
   "cell_type": "code",
   "execution_count": 4,
   "id": "c348fd92",
   "metadata": {},
   "outputs": [],
   "source": [
    "workdir = f\"{dir_path}/files/output\"\n",
    "# will want to create a directory so use DirectoryOrCreate mount type\n",
    "workdir_mount = MountPoint(\n",
    "    name=\"workdir-mount\", host_path=workdir, mount_type=\"DirectoryOrCreate\"\n",
    ")\n",
    "\n",
    "\n",
    "# in this case, will be using conda installation of impact\n",
    "command=\"ImpactTexe\"\n",
    "command_mpi=\"\"\n",
    "use_mpi=False\n",
    "mpi_run=\"mpirun -n {nproc} --use-hwthread-cpus {command_mpi}\"\n",
    "\n",
    "impact_configuration = {\n",
    "    \"command\": command,\n",
    "    \"command_mpi\": command_mpi,\n",
    "    \"use_mpi\": use_mpi,\n",
    "    \"workdir\": workdir,\n",
    "    \"mpi_run\": mpi_run\n",
    "}\n",
    "\n",
    "impact_settings = {\n",
    "    \"header:Nx\": 32,\n",
    "    \"header:Ny\": 32,\n",
    "    \"header:Nz\": 32,\n",
    "    \"stop\": 16.5,\n",
    "  #  \"stop\": 8,\n",
    "    \"numprocs\": 1,\n",
    "    \"timeout\": 1000,\n",
    "    \"total_charge\": 0, # for debugging\n",
    "}\n",
    "\n",
    "impact_archive_file = f\"{dir_path}/files/archive.h5\"\n",
    "impact_archive_input_mount = MountPoint(\n",
    "    name=\"impact-archive-input-mount\", host_path=impact_archive_file, mount_type=\"File\"\n",
    ")\n",
    "\n",
    "\n",
    "impact_pv_values = {\"SOLN:IN20:121:BACT\": 0.47235,\n",
    "                        \"QUAD:IN20:121:BACT\":  -0.00133705,\n",
    "                        \"QUAD:IN20:122:BACT\": 0.000769202,\n",
    "                        \"ACCL:IN20:300:L0A_PDES\": 0,\n",
    "                        \"ACCL:IN20:400:L0B_PDES\": -2.5,\n",
    "                        \"ACCL:IN20:300:L0A_ADES\": 58,\n",
    "                        \"ACCL:IN20:400:L0B_ADES\": 69.9586,\n",
    "                        \"QUAD:IN20:361:BACT\": -3.25386,\n",
    "                        \"QUAD:IN20:371:BACT\": 2.5843,\n",
    "                        \"QUAD:IN20:425:BACT\": -1.54514,\n",
    "                        \"QUAD:IN20:441:BACT\": -0.671809,\n",
    "                        \"QUAD:IN20:511:BACT\": 3.22537,\n",
    "                        \"QUAD:IN20:525:BACT\": -3.20496,\n",
    "                        }\n",
    "\n",
    "impact_pvname_to_input_map = {\"SOLN:IN20:121:BACT\": \"SOL1:solenoid_field_scale\",\n",
    "                \"QUAD:IN20:121:BACT\": \"CQ01:b1_gradient\",\n",
    "                \"QUAD:IN20:122:BACT\": \"SQ01:b1_gradient\",\n",
    "                \"ACCL:IN20:300:L0A_PDES\": \"L0A_phase:dtheta0_deg\",\n",
    "                \"ACCL:IN20:400:L0B_PDES\": \"L0B_phase:dtheta0_deg\",\n",
    "                \"ACCL:IN20:300:L0A_ADES\": \"L0A_scale:voltage\",\n",
    "                \"ACCL:IN20:400:L0B_ADES\": \"L0B_scale:voltage\",\n",
    "                \"QUAD:IN20:361:BACT\": \"QA01:b1_gradient\",\n",
    "                \"QUAD:IN20:371:BACT\": \"QA02:b1_gradient\",\n",
    "                \"QUAD:IN20:425:BACT\": \"QE01:b1_gradient\",\n",
    "                \"QUAD:IN20:441:BACT\": \"QE02:b1_gradient\",\n",
    "                \"QUAD:IN20:511:BACT\": \"QE03:b1_gradient\",\n",
    "                \"QUAD:IN20:525:BACT\": \"QE04:b1_gradient\",\n",
    "                }\n",
    "\n"
   ]
  },
  {
   "cell_type": "markdown",
   "id": "94b2cb89",
   "metadata": {},
   "source": [
    "# Configure paths for output artifacts"
   ]
  },
  {
   "cell_type": "code",
   "execution_count": 5,
   "id": "05d51bb7",
   "metadata": {},
   "outputs": [],
   "source": [
    "# Use DirectoryOrCreate mount for archive and dashboard\n",
    "archive_dir = f\"{dir_path}/files/output/archive\"\n",
    "impact_archive_mount = MountPoint(\n",
    "    name=\"archive-mount\", host_path=archive_dir, mount_type=\"DirectoryOrCreate\"\n",
    ")\n",
    "\n",
    "dashboard_dir = f\"{dir_path}/files/output/dashboard\"\n",
    "dashboard_mount = MountPoint(\n",
    "    name=\"dashboard-mount\", host_path=dashboard_dir, mount_type=\"DirectoryOrCreate\"\n",
    ")\n"
   ]
  },
  {
   "cell_type": "markdown",
   "id": "c252b084",
   "metadata": {},
   "source": [
    "# Collect data and submit to remote modeling service"
   ]
  },
  {
   "cell_type": "code",
   "execution_count": 6,
   "id": "e13e193a",
   "metadata": {},
   "outputs": [
    {
     "name": "stdout",
     "output_type": "stream",
     "text": [
      "Run scheduled for model 1 with flow_run_id = b7cfda09-e4d1-4f87-ab36-53d3a272e995\n"
     ]
    }
   ],
   "source": [
    "data = {\n",
    "    \"distgen_input_filename\": distgen_input_filename,\n",
    "    \"distgen_settings\": distgen_settings,\n",
    "    \"distgen_configuration\": distgen_configuration,\n",
    "    \"distgen_pv_values\": distgen_pv_values,\n",
    "    \"distgen_pvname_to_input_map\": distgen_pvname_to_input_map,\n",
    "    \"impact_configuration\": impact_configuration,\n",
    "    \"impact_pv_values\": impact_pv_values,\n",
    "    \"impact_settings\": impact_settings,\n",
    "    \"impact_pvname_to_input_map\": impact_pvname_to_input_map,\n",
    "    \"impact_archive_file\": impact_archive_file,\n",
    "    \"pv_collection_isotime\": isotime(),\n",
    "    \"impact_archive_dir\": archive_dir,\n",
    "    \"dashboard_dir\": dashboard_dir\n",
    "}\n",
    "\n",
    "import os\n",
    "LUME_CONFIGURATION_FILE = os.environ[\"LUME_ORCHESTRATION_CLUSTER_CONFIG\"]\n",
    "\n",
    "\n",
    "remote_modeling_service = service_container.remote_modeling_service()\n",
    "mount_points = [distgen_input_mount, workdir_mount, impact_archive_input_mount, impact_archive_mount, dashboard_mount]\n",
    "remote_modeling_service.predict(model_id=1, data=data, mount_points=mount_points, lume_configuration_file=LUME_CONFIGURATION_FILE)"
   ]
  },
  {
   "cell_type": "markdown",
   "id": "1cbc930b",
   "metadata": {},
   "source": [
    "# Open Prefect UI\n",
    "You can now check the status of your run at:\n",
    "http://localhost:8080"
   ]
  },
  {
   "cell_type": "code",
   "execution_count": null,
   "id": "75ce54ce",
   "metadata": {},
   "outputs": [],
   "source": []
  }
 ],
 "metadata": {
  "kernelspec": {
   "display_name": "Python 3 (ipykernel)",
   "language": "python",
   "name": "python3"
  },
  "language_info": {
   "codemirror_mode": {
    "name": "ipython",
    "version": 3
   },
   "file_extension": ".py",
   "mimetype": "text/x-python",
   "name": "python",
   "nbconvert_exporter": "python",
   "pygments_lexer": "ipython3",
   "version": "3.9.10"
  }
 },
 "nbformat": 4,
 "nbformat_minor": 5
}
